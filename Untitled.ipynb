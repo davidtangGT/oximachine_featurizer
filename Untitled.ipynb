{
 "cells": [
  {
   "cell_type": "code",
   "execution_count": 1,
   "metadata": {},
   "outputs": [],
   "source": [
    "from matminer.featurizers.base import MultipleFeaturizer\n",
    "from matminer.featurizers.site import (\n",
    "    CrystalNNFingerprint,\n",
    "    CoordinationNumber,\n",
    "    LocalPropertyDifference,\n",
    "    BondOrientationalParameter,\n",
    "    GaussianSymmFunc,\n",
    ")"
   ]
  },
  {
   "cell_type": "code",
   "execution_count": 2,
   "metadata": {},
   "outputs": [],
   "source": [
    "featurizer = MultipleFeaturizer([\n",
    "    CrystalNNFingerprint.from_preset('ops'),\n",
    "    CoordinationNumber(),\n",
    "    LocalPropertyDifference.from_preset('ward-prb-2017'),\n",
    "    BondOrientationalParameter(),\n",
    "    GaussianSymmFunc(),\n",
    "])"
   ]
  },
  {
   "cell_type": "code",
   "execution_count": 19,
   "metadata": {},
   "outputs": [
    {
     "data": {
      "text/plain": [
       "['G2_0.05',\n",
       " 'G2_4.0',\n",
       " 'G2_20.0',\n",
       " 'G2_80.0',\n",
       " 'G4_0.005_1.0_1.0',\n",
       " 'G4_0.005_1.0_-1.0',\n",
       " 'G4_0.005_4.0_1.0',\n",
       " 'G4_0.005_4.0_-1.0']"
      ]
     },
     "execution_count": 19,
     "metadata": {},
     "output_type": "execute_result"
    }
   ],
   "source": [
    "GaussianSymmFunc().feature_labels()"
   ]
  },
  {
   "cell_type": "code",
   "execution_count": 22,
   "metadata": {},
   "outputs": [
    {
     "data": {
      "text/plain": [
       "['G2_0.05',\n",
       " 'G2_4.0',\n",
       " 'G2_20.0',\n",
       " 'G2_80.0',\n",
       " 'G4_0.005_1.0_1.0',\n",
       " 'G4_0.005_1.0_-1.0',\n",
       " 'G4_0.005_4.0_1.0',\n",
       " 'G4_0.005_4.0_-1.0']"
      ]
     },
     "execution_count": 22,
     "metadata": {},
     "output_type": "execute_result"
    }
   ],
   "source": [
    "featurizer.feature_labels()[94:103]"
   ]
  },
  {
   "cell_type": "code",
   "execution_count": 13,
   "metadata": {},
   "outputs": [
    {
     "data": {
      "text/plain": [
       "84"
      ]
     },
     "execution_count": 13,
     "metadata": {},
     "output_type": "execute_result"
    }
   ],
   "source": [
    "62+22"
   ]
  },
  {
   "cell_type": "code",
   "execution_count": null,
   "metadata": {},
   "outputs": [],
   "source": []
  }
 ],
 "metadata": {
  "kernelspec": {
   "display_name": "Python [conda env:ml] *",
   "language": "python",
   "name": "conda-env-ml-py"
  },
  "language_info": {
   "codemirror_mode": {
    "name": "ipython",
    "version": 3
   },
   "file_extension": ".py",
   "mimetype": "text/x-python",
   "name": "python",
   "nbconvert_exporter": "python",
   "pygments_lexer": "ipython3",
   "version": "3.7.4"
  }
 },
 "nbformat": 4,
 "nbformat_minor": 4
}
