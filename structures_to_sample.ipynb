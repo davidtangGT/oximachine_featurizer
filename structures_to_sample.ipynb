{
 "cells": [
  {
   "cell_type": "markdown",
   "metadata": {},
   "source": [
    "## Get sampling plan"
   ]
  },
  {
   "cell_type": "markdown",
   "metadata": {},
   "source": [
    "To avoid that we do not sample rarer elements like Ru enough, we will sample all of them and a random set of the more common elements."
   ]
  },
  {
   "cell_type": "code",
   "execution_count": 6,
   "metadata": {},
   "outputs": [],
   "source": [
    "import pickle\n",
    "import pandas as pd\n",
    "from pymatgen import Element"
   ]
  },
  {
   "cell_type": "code",
   "execution_count": 7,
   "metadata": {},
   "outputs": [
    {
     "data": {
      "text/plain": [
       "True"
      ]
     },
     "execution_count": 7,
     "metadata": {},
     "output_type": "execute_result"
    }
   ],
   "source": [
    "Element('Cu').is_metal"
   ]
  },
  {
   "cell_type": "code",
   "execution_count": 2,
   "metadata": {},
   "outputs": [],
   "source": [
    "with open('../oxidation_state_book/data/chemical_formulas_fixed.pkl', 'rb') as fh:\n",
    "    chemical_formulas = pickle.load(fh)"
   ]
  },
  {
   "cell_type": "code",
   "execution_count": 8,
   "metadata": {},
   "outputs": [
    {
     "data": {
      "text/plain": [
       "1009141"
      ]
     },
     "execution_count": 8,
     "metadata": {},
     "output_type": "execute_result"
    }
   ],
   "source": [
    "len(chemical_formulas)"
   ]
  },
  {
   "cell_type": "code",
   "execution_count": 9,
   "metadata": {},
   "outputs": [],
   "source": [
    "with open('../oxidation_state_book/data/name_list.pkl', 'rb') as fh:\n",
    "    names = pickle.load(fh)"
   ]
  },
  {
   "cell_type": "code",
   "execution_count": 10,
   "metadata": {},
   "outputs": [
    {
     "data": {
      "text/plain": [
       "49260"
      ]
     },
     "execution_count": 10,
     "metadata": {},
     "output_type": "execute_result"
    }
   ],
   "source": [
    "len(names)"
   ]
  },
  {
   "cell_type": "code",
   "execution_count": 15,
   "metadata": {},
   "outputs": [],
   "source": [
    "chemical_formulas_list_for_df = []\n",
    "\n",
    "for k,v in chemical_formulas.items():\n",
    "    try:\n",
    "        if k in names:\n",
    "            res_dict = {}\n",
    "            res_dict['name'] = k\n",
    "            for element in v.keys():\n",
    "                if Element(element).is_metal:\n",
    "                    res_dict['metal'] = element\n",
    "            chemical_formulas_list_for_df.append(res_dict)\n",
    "    except Exception:\n",
    "        pass\n"
   ]
  },
  {
   "cell_type": "code",
   "execution_count": 17,
   "metadata": {},
   "outputs": [],
   "source": [
    "df = pd.DataFrame(chemical_formulas_list_for_df)"
   ]
  },
  {
   "cell_type": "code",
   "execution_count": 18,
   "metadata": {},
   "outputs": [
    {
     "data": {
      "text/html": [
       "<div>\n",
       "<style scoped>\n",
       "    .dataframe tbody tr th:only-of-type {\n",
       "        vertical-align: middle;\n",
       "    }\n",
       "\n",
       "    .dataframe tbody tr th {\n",
       "        vertical-align: top;\n",
       "    }\n",
       "\n",
       "    .dataframe thead th {\n",
       "        text-align: right;\n",
       "    }\n",
       "</style>\n",
       "<table border=\"1\" class=\"dataframe\">\n",
       "  <thead>\n",
       "    <tr style=\"text-align: right;\">\n",
       "      <th></th>\n",
       "      <th>name</th>\n",
       "      <th>metal</th>\n",
       "    </tr>\n",
       "  </thead>\n",
       "  <tbody>\n",
       "    <tr>\n",
       "      <td>0</td>\n",
       "      <td>BUQNUX</td>\n",
       "      <td>Er</td>\n",
       "    </tr>\n",
       "    <tr>\n",
       "      <td>1</td>\n",
       "      <td>WIGGIF</td>\n",
       "      <td>Co</td>\n",
       "    </tr>\n",
       "    <tr>\n",
       "      <td>2</td>\n",
       "      <td>RIFFET</td>\n",
       "      <td>Cu</td>\n",
       "    </tr>\n",
       "    <tr>\n",
       "      <td>3</td>\n",
       "      <td>HENGAL</td>\n",
       "      <td>Ti</td>\n",
       "    </tr>\n",
       "    <tr>\n",
       "      <td>4</td>\n",
       "      <td>BAYCUA</td>\n",
       "      <td>Ag</td>\n",
       "    </tr>\n",
       "  </tbody>\n",
       "</table>\n",
       "</div>"
      ],
      "text/plain": [
       "     name metal\n",
       "0  BUQNUX    Er\n",
       "1  WIGGIF    Co\n",
       "2  RIFFET    Cu\n",
       "3  HENGAL    Ti\n",
       "4  BAYCUA    Ag"
      ]
     },
     "execution_count": 18,
     "metadata": {},
     "output_type": "execute_result"
    }
   ],
   "source": [
    "df.head()"
   ]
  },
  {
   "cell_type": "code",
   "execution_count": 65,
   "metadata": {},
   "outputs": [
    {
     "data": {
      "text/plain": [
       "Cu    9227\n",
       "Zn    6522\n",
       "Cd    5124\n",
       "Co    4013\n",
       "Ag    3896\n",
       "      ... \n",
       "Ir      14\n",
       "Ta       7\n",
       "Am       3\n",
       "Al       1\n",
       "Be       1\n",
       "Name: metal, Length: 64, dtype: int64"
      ]
     },
     "execution_count": 65,
     "metadata": {},
     "output_type": "execute_result"
    }
   ],
   "source": [
    "counts"
   ]
  },
  {
   "cell_type": "code",
   "execution_count": 40,
   "metadata": {},
   "outputs": [],
   "source": [
    "counts = df['metal'].value_counts()"
   ]
  },
  {
   "cell_type": "code",
   "execution_count": 53,
   "metadata": {},
   "outputs": [],
   "source": [
    "ordererd_metals = list(counts.keys())"
   ]
  },
  {
   "cell_type": "code",
   "execution_count": 66,
   "metadata": {},
   "outputs": [],
   "source": [
    "fil = list(counts.values > 2000)"
   ]
  },
  {
   "cell_type": "code",
   "execution_count": 73,
   "metadata": {},
   "outputs": [],
   "source": [
    "freuquent_metals = [m for i, m in enumerate(ordererd_metals) if fil[i]]"
   ]
  },
  {
   "cell_type": "code",
   "execution_count": 89,
   "metadata": {
    "collapsed": true,
    "jupyter": {
     "outputs_hidden": true
    }
   },
   "outputs": [
    {
     "name": "stdout",
     "output_type": "stream",
     "text": [
      "metal Cu, len 9227\n",
      "metal is frequent\n",
      "metal Zn, len 6522\n",
      "metal is frequent\n",
      "metal Cd, len 5124\n",
      "metal is frequent\n",
      "metal Co, len 4013\n",
      "metal is frequent\n",
      "metal Ag, len 3896\n",
      "metal is frequent\n",
      "metal Mn, len 3194\n",
      "metal is frequent\n",
      "metal Ni, len 2347\n",
      "metal is frequent\n",
      "metal Fe, len 1457\n",
      "metal Pb, len 1048\n",
      "metal Eu, len 766\n",
      "metal Hg, len 640\n",
      "metal Na, len 636\n",
      "metal Tb, len 605\n",
      "metal Mo, len 561\n",
      "metal Gd, len 543\n",
      "metal La, len 514\n",
      "metal Nd, len 511\n",
      "metal V, len 492\n",
      "metal Sn, len 478\n",
      "metal W, len 477\n",
      "metal Sm, len 473\n",
      "metal Pr, len 390\n",
      "metal Dy, len 377\n",
      "metal U, len 351\n",
      "metal Er, len 337\n",
      "metal K, len 312\n",
      "metal In, len 248\n",
      "metal Yb, len 236\n",
      "metal Ca, len 235\n",
      "metal Ce, len 232\n",
      "metal Y, len 217\n",
      "metal Sr, len 203\n",
      "metal Ho, len 199\n",
      "metal Mg, len 182\n",
      "metal Bi, len 169\n",
      "metal Ba, len 160\n",
      "metal Tl, len 159\n",
      "metal Rh, len 153\n",
      "metal Ru, len 152\n",
      "metal Pt, len 149\n",
      "metal Au, len 144\n",
      "metal Li, len 143\n",
      "metal Zr, len 142\n",
      "metal Pd, len 89\n",
      "metal Cr, len 86\n",
      "metal Ti, len 76\n",
      "metal Re, len 65\n",
      "metal Tm, len 65\n",
      "metal Lu, len 60\n",
      "metal Nb, len 58\n",
      "metal Rb, len 53\n",
      "metal Ga, len 52\n",
      "metal Np, len 48\n",
      "metal Sc, len 44\n",
      "metal Th, len 38\n",
      "metal Cs, len 29\n",
      "metal Hf, len 23\n",
      "metal Pu, len 17\n",
      "metal Os, len 15\n",
      "metal Ir, len 14\n",
      "metal Ta, len 7\n",
      "metal Am, len 3\n",
      "metal Al, len 1\n",
      "metal Be, len 1\n"
     ]
    }
   ],
   "source": [
    "import numpy as np \n",
    "\n",
    "sampled_names = []\n",
    "\n",
    "for metal in ordererd_metals:\n",
    "    metal_mofs = df[df['metal']==metal]['name']\n",
    "    print('metal {}, len {}'.format(metal, len(metal_mofs)))\n",
    "    if metal in freuquent_metals:\n",
    "        print(\"metal is frequent\")\n",
    "        names = np.random.choice(metal_mofs, 3000)\n",
    "    else:\n",
    "        names = metal_mofs\n",
    "    \n",
    "    sampled_names.extend(names)"
   ]
  },
  {
   "cell_type": "code",
   "execution_count": 90,
   "metadata": {},
   "outputs": [
    {
     "data": {
      "text/plain": [
       "35935"
      ]
     },
     "execution_count": 90,
     "metadata": {},
     "output_type": "execute_result"
    }
   ],
   "source": [
    "len(sampled_names)"
   ]
  },
  {
   "cell_type": "code",
   "execution_count": 93,
   "metadata": {},
   "outputs": [],
   "source": [
    "with open('names_to_sample.pkl', 'wb') as fh:\n",
    "    pickle.dump(sampled_names, fh)"
   ]
  },
  {
   "cell_type": "code",
   "execution_count": null,
   "metadata": {},
   "outputs": [],
   "source": []
  }
 ],
 "metadata": {
  "kernelspec": {
   "display_name": "Python 3",
   "language": "python",
   "name": "python3"
  },
  "language_info": {
   "codemirror_mode": {
    "name": "ipython",
    "version": 3
   },
   "file_extension": ".py",
   "mimetype": "text/x-python",
   "name": "python",
   "nbconvert_exporter": "python",
   "pygments_lexer": "ipython3",
   "version": "3.7.4"
  }
 },
 "nbformat": 4,
 "nbformat_minor": 4
}
