{
 "cells": [
  {
   "cell_type": "code",
   "execution_count": 9,
   "metadata": {},
   "outputs": [],
   "source": [
    "from matminer.featurizers.site import LocalPropertyStats, CrystalNNFingerprint, GaussianSymmFunc\n",
    "from matminer.featurizers.base import MultipleFeaturizer\n",
    "from pymatgen import Structure\n",
    "from ase.io import read, write\n",
    "from pymatgen.io.ase import AseAtomsAdaptor"
   ]
  },
  {
   "cell_type": "code",
   "execution_count": 2,
   "metadata": {},
   "outputs": [],
   "source": [
    "atoms = read('../test_structures/showcases/andres.cif')\n",
    "s = AseAtomsAdaptor.get_structure(atoms)"
   ]
  },
  {
   "cell_type": "code",
   "execution_count": 5,
   "metadata": {},
   "outputs": [],
   "source": [
    "lps = LocalPropertyStats.from_preset('interpretable')"
   ]
  },
  {
   "cell_type": "code",
   "execution_count": 6,
   "metadata": {},
   "outputs": [
    {
     "data": {
      "text/plain": [
       "array([27.22050653,  6.99658269,  3.12273653,  0.73524519,  0.87621447,\n",
       "        2.62706185,  6.99816425,  0.        ,  3.49488794,  0.87621447,\n",
       "        2.63022496,  2.99921325,  0.        ,  1.24520275,  6.60715106,\n",
       "       27.22050653,  5.26725675, -3.12273653,  0.73524519,  0.87621447,\n",
       "        2.62706185, -6.99816425,  0.        , -3.49488794, -0.87621447,\n",
       "        2.63022496, -2.99921325,  0.        , -1.24520275,  6.60715106,\n",
       "       36.        ,  7.        ,  0.        ,  0.84      ,  1.        ,\n",
       "        3.        ,  0.        ,  0.        ,  0.        ,  0.        ,\n",
       "        4.        ,  0.        ,  0.        ,  0.        ,  7.853     ,\n",
       "        0.        , -7.        , -4.        ,  0.        ,  0.        ,\n",
       "        0.        , -7.        ,  0.        , -7.        , -1.        ,\n",
       "        0.        , -3.        ,  0.        , -3.        ,  0.        ])"
      ]
     },
     "execution_count": 6,
     "metadata": {},
     "output_type": "execute_result"
    }
   ],
   "source": [
    "lps.featurize(s, 1)"
   ]
  },
  {
   "cell_type": "code",
   "execution_count": 13,
   "metadata": {},
   "outputs": [],
   "source": [
    "FEATURE_LABELS_ALL = ['wt CN_1',\n",
    " 'sgl_bd CN_1',\n",
    " 'wt CN_2',\n",
    " 'L-shaped CN_2',\n",
    " 'water-like CN_2',\n",
    " 'bent 120 degrees CN_2',\n",
    " 'bent 150 degrees CN_2',\n",
    " 'linear CN_2',\n",
    " 'wt CN_3',\n",
    " 'trigonal planar CN_3',\n",
    " 'trigonal non-coplanar CN_3',\n",
    " 'T-shaped CN_3',\n",
    " 'wt CN_4',\n",
    " 'square co-planar CN_4',\n",
    " 'tetrahedral CN_4',\n",
    " 'rectangular see-saw-like CN_4',\n",
    " 'see-saw-like CN_4',\n",
    " 'trigonal pyramidal CN_4',\n",
    " 'wt CN_5',\n",
    " 'pentagonal planar CN_5',\n",
    " 'square pyramidal CN_5',\n",
    " 'trigonal bipyramidal CN_5',\n",
    " 'wt CN_6',\n",
    " 'hexagonal planar CN_6',\n",
    " 'octahedral CN_6',\n",
    " 'pentagonal pyramidal CN_6',\n",
    " 'wt CN_7',\n",
    " 'hexagonal pyramidal CN_7',\n",
    " 'pentagonal bipyramidal CN_7',\n",
    " 'wt CN_8',\n",
    " 'body-centered cubic CN_8',\n",
    " 'hexagonal bipyramidal CN_8',\n",
    " 'wt CN_9',\n",
    " 'q2 CN_9',\n",
    " 'q4 CN_9',\n",
    " 'q6 CN_9',\n",
    " 'wt CN_10',\n",
    " 'q2 CN_10',\n",
    " 'q4 CN_10',\n",
    " 'q6 CN_10',\n",
    " 'wt CN_11',\n",
    " 'q2 CN_11',\n",
    " 'q4 CN_11',\n",
    " 'q6 CN_11',\n",
    " 'wt CN_12',\n",
    " 'cuboctahedral CN_12',\n",
    " 'q2 CN_12',\n",
    " 'q4 CN_12',\n",
    " 'q6 CN_12',\n",
    " 'wt CN_13',\n",
    " 'wt CN_14',\n",
    " 'wt CN_15',\n",
    " 'wt CN_16',\n",
    " 'wt CN_17',\n",
    " 'wt CN_18',\n",
    " 'wt CN_19',\n",
    " 'wt CN_20',\n",
    " 'wt CN_21',\n",
    " 'wt CN_22',\n",
    " 'wt CN_23',\n",
    " 'wt CN_24',\n",
    " 'local difference in MendeleevNumber',\n",
    " 'local difference in Column',\n",
    " 'local difference in Row',\n",
    " 'local difference in Electronegativity',\n",
    " 'local difference in NsValence',\n",
    " 'local difference in NpValence',\n",
    " 'local difference in NdValence',\n",
    " 'local difference in NfValence',\n",
    " 'local difference in NValence',\n",
    " 'local difference in NsUnfilled',\n",
    " 'local difference in NpUnfilled',\n",
    " 'local difference in NdUnfilled',\n",
    " 'local difference in NfUnfilled',\n",
    " 'local difference in NUnfilled',\n",
    " 'local difference in GSbandgap',\n",
    " 'local signed difference in MendeleevNumber',\n",
    " 'local signed difference in Column',\n",
    " 'local signed difference in Row',\n",
    " 'local signed difference in Electronegativity',\n",
    " 'local signed difference in NsValence',\n",
    " 'local signed difference in NpValence',\n",
    " 'local signed difference in NdValence',\n",
    " 'local signed difference in NfValence',\n",
    " 'local signed difference in NValence',\n",
    " 'local signed difference in NsUnfilled',\n",
    " 'local signed difference in NpUnfilled',\n",
    " 'local signed difference in NdUnfilled',\n",
    " 'local signed difference in NfUnfilled',\n",
    " 'local signed difference in NUnfilled',\n",
    " 'local signed difference in GSbandgap',\n",
    " 'maximum local difference in MendeleevNumber',\n",
    " 'maximum local difference in Column',\n",
    " 'maximum local difference in Row',\n",
    " 'maximum local difference in Electronegativity',\n",
    " 'maximum local difference in NsValence',\n",
    " 'maximum local difference in NpValence',\n",
    " 'maximum local difference in NdValence',\n",
    " 'maximum local difference in NfValence',\n",
    " 'maximum local difference in NValence',\n",
    " 'maximum local difference in NsUnfilled',\n",
    " 'maximum local difference in NpUnfilled',\n",
    " 'maximum local difference in NdUnfilled',\n",
    " 'maximum local difference in NfUnfilled',\n",
    " 'maximum local difference in NUnfilled',\n",
    " 'maximum local difference in GSbandgap',\n",
    " 'mimum local difference in MendeleevNumber',\n",
    " 'mimum local difference in Column',\n",
    " 'mimum local difference in Row',\n",
    " 'mimum local difference in Electronegativity',\n",
    " 'mimum local difference in NsValence',\n",
    " 'mimum local difference in NpValence',\n",
    " 'mimum local difference in NdValence',\n",
    " 'mimum local difference in NfValence',\n",
    " 'mimum local difference in NValence',\n",
    " 'mimum local difference in NsUnfilled',\n",
    " 'mimum local difference in NpUnfilled',\n",
    " 'mimum local difference in NdUnfilled',\n",
    " 'mimum local difference in NfUnfilled',\n",
    " 'mimum local difference in NUnfilled',\n",
    " 'mimum local difference in GSbandgap',\n",
    " 'G2_0.05',\n",
    " 'G2_4.0',\n",
    " 'G2_20.0',\n",
    " 'G2_80.0',\n",
    " 'G4_0.005_1.0_1.0',\n",
    " 'G4_0.005_1.0_-1.0',\n",
    " 'G4_0.005_4.0_1.0',\n",
    " 'G4_0.005_4.0_-1.0',\n",
    "    \"number\",\n",
    "    \"row\",\n",
    "    \"column\",\n",
    "    \"random_column\",\n",
    "]"
   ]
  },
  {
   "cell_type": "code",
   "execution_count": 24,
   "metadata": {},
   "outputs": [
    {
     "data": {
      "text/plain": [
       "['G2_4.0',\n",
       " 'G2_20.0',\n",
       " 'G2_80.0',\n",
       " 'G4_0.005_1.0_1.0',\n",
       " 'G4_0.005_1.0_-1.0',\n",
       " 'G4_0.005_4.0_1.0',\n",
       " 'G4_0.005_4.0_-1.0',\n",
       " 'number']"
      ]
     },
     "execution_count": 24,
     "metadata": {},
     "output_type": "execute_result"
    }
   ],
   "source": [
    "FEATURE_LABELS_ALL[122:130]"
   ]
  },
  {
   "cell_type": "code",
   "execution_count": null,
   "metadata": {},
   "outputs": [],
   "source": []
  }
 ],
 "metadata": {
  "kernelspec": {
   "display_name": "Python 3",
   "language": "python",
   "name": "python3"
  },
  "language_info": {
   "codemirror_mode": {
    "name": "ipython",
    "version": 3
   },
   "file_extension": ".py",
   "mimetype": "text/x-python",
   "name": "python",
   "nbconvert_exporter": "python",
   "pygments_lexer": "ipython3",
   "version": "3.7.4"
  }
 },
 "nbformat": 4,
 "nbformat_minor": 4
}
